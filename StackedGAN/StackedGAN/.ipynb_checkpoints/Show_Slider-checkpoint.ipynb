{
 "cells": [
  {
   "cell_type": "code",
   "execution_count": 1,
   "metadata": {},
   "outputs": [
    {
     "name": "stdout",
     "output_type": "stream",
     "text": [
      "WARNING:tensorflow:From C:\\Users\\Alireza.Hashemi\\AppData\\Local\\Continuum\\anaconda3\\lib\\site-packages\\tensorflow\\python\\ops\\resource_variable_ops.py:435: colocate_with (from tensorflow.python.framework.ops) is deprecated and will be removed in a future version.\n",
      "Instructions for updating:\n",
      "Colocations handled automatically by placer.\n",
      "WARNING:tensorflow:No training configuration found in save file: the model was *not* compiled. Compile it manually.\n",
      "WARNING:tensorflow:No training configuration found in save file: the model was *not* compiled. Compile it manually.\n"
     ]
    },
    {
     "data": {
      "application/vnd.jupyter.widget-view+json": {
       "model_id": "1b7f32a62bde4885a661dea73445c8cf",
       "version_major": 2,
       "version_minor": 0
      },
      "text/plain": [
       "IntSlider(value=5, description='Vector:', max=99)"
      ]
     },
     "metadata": {},
     "output_type": "display_data"
    },
    {
     "data": {
      "application/vnd.jupyter.widget-view+json": {
       "model_id": "b996bd6bbd9043dea00a2db1e824bb29",
       "version_major": 2,
       "version_minor": 0
      },
      "text/plain": [
       "FloatSlider(value=0.5, description='Value:', max=1.0, orientation='vertical', readout_format='.1f')"
      ]
     },
     "metadata": {},
     "output_type": "display_data"
    }
   ],
   "source": [
    "#!jupyter nbextension enable --py widgetsnbextension\n",
    "from tensorflow.keras.models import load_model\n",
    "import ipywidgets as widgets\n",
    "from IPython.display import clear_output\n",
    "import numpy as np\n",
    "from utils.generation import generate\n",
    "from PIL import Image\n",
    "\n",
    "input_dim = 100\n",
    "G0 = load_model('Gs0_model.H5')\n",
    "G1 = load_model('Gs1_model.H5')\n",
    "\n",
    "noise = np.random.uniform(0, 1, (1, input_dim))\n",
    "\n",
    "x=widgets.IntSlider(\n",
    "    value=5,\n",
    "    min=0,\n",
    "    max=99,\n",
    "    step=1,\n",
    "    description='Vector:',\n",
    "    disabled=False,\n",
    "    continuous_update=True,\n",
    "    orientation='horizontal',\n",
    "    readout=True,\n",
    "    readout_format='d'\n",
    ")\n",
    "\n",
    "y=widgets.FloatSlider(\n",
    "    value=0.5,\n",
    "    min=0.0,\n",
    "    max=1.0,\n",
    "    step=0.1,\n",
    "    description='Value:',\n",
    "    disabled=False,\n",
    "    continuous_update=True,\n",
    "    orientation='vertical',\n",
    "    readout=True,\n",
    "    readout_format='.1f',\n",
    ")\n",
    "\n",
    "from matplotlib import pyplot as plt\n",
    "import cv2\n",
    "\n",
    "def show_images(images1, images2):\n",
    "    %matplotlib qt \n",
    "    fig=plt.figure(figsize=(11, 7))\n",
    "    images1 = images1.astype(np.uint8)\n",
    "    images2 = images2.astype(np.uint8)\n",
    "    for i in range(len(images1)):\n",
    "        image1 = Image.fromarray(images1[i])\n",
    "        image2 = Image.fromarray(images2[i])\n",
    "        #fig.add_subplot(1, 1, 1)\n",
    "        #plt.imshow(image1)\n",
    "        fig.add_subplot(1, 3, 2)\n",
    "        plt.imshow(image2)\n",
    "        plt.title(noise[0])\n",
    "        \n",
    "    plt.show()\n",
    "\n",
    "def test_image_generation(x, y):\n",
    "    noise[0, x.value]=y.value\n",
    "    results1 = generate(G0, source=noise)\n",
    "    results2 = generate(G1, source=results1)\n",
    "    show_images(results1, results2)\n",
    "\n",
    "def handle_slider_change(change):\n",
    "    test_image_generation(x, y)\n",
    "\n",
    "x.observe(handle_slider_change, names='value')\n",
    "y.observe(handle_slider_change, names='value')\n",
    "display(x)\n",
    "display(y)"
   ]
  },
  {
   "cell_type": "code",
   "execution_count": null,
   "metadata": {},
   "outputs": [],
   "source": []
  }
 ],
 "metadata": {
  "kernelspec": {
   "display_name": "Python 3",
   "language": "python",
   "name": "python3"
  },
  "language_info": {
   "codemirror_mode": {
    "name": "ipython",
    "version": 3
   },
   "file_extension": ".py",
   "mimetype": "text/x-python",
   "name": "python",
   "nbconvert_exporter": "python",
   "pygments_lexer": "ipython3",
   "version": "3.7.3"
  }
 },
 "nbformat": 4,
 "nbformat_minor": 2
}
